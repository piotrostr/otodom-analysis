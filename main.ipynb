{
 "cells": [
  {
   "cell_type": "code",
   "execution_count": 212,
   "id": "ea153668",
   "metadata": {},
   "outputs": [],
   "source": [
    "import requests\n",
    "import json\n",
    "import pandas as pd\n",
    "import requests\n",
    "\n",
    "from bs4 import BeautifulSoup\n",
    "from zeep import Client\n",
    "from otodom import category, utils"
   ]
  },
  {
   "cell_type": "code",
   "execution_count": 230,
   "id": "d5374d60",
   "metadata": {},
   "outputs": [
    {
     "name": "stdout",
     "output_type": "stream",
     "text": [
      "https://www.otodom.pl/pl/wyniki/sprzedaz/mieszkanie/pomorskie/gdansk/gdansk/gdansk?viewType=listing&limit=72&page=1\n"
     ]
    }
   ],
   "source": [
    "headers = {\n",
    "    'User-Agent': 'Mozilla/5.0 (iPad; CPU OS 12_2 like Mac OS X) AppleWebKit/605.1.15 (KHTML, like Gecko) Mobile/15E148'\n",
    "}\n",
    "\n",
    "\n",
    "params = {\n",
    "    \"viewType\": \"listing\",\n",
    "    \"limit\": 72,\n",
    "    \"page\": 1    \n",
    "}\n",
    "\n",
    "region = \"pomorskie/gdansk/gdansk/gdansk\"\n",
    "\n",
    "r = requests.get(\n",
    "    f\"https://www.otodom.pl/pl/wyniki/sprzedaz/mieszkanie/{region}\", \n",
    "    headers=headers,\n",
    "    params=params,\n",
    ")\n",
    "\n",
    "print(r.url)\n",
    "\n",
    "soup = BeautifulSoup(r.text, \"lxml\")\n",
    "\n",
    "json_scripts = soup.find_all('script', {'type': 'application/ld+json'})\n",
    "\n",
    "# Loop through each tag and load the JSON\n",
    "for script in json_scripts:\n",
    "    data = json.loads(script.string)"
   ]
  },
  {
   "cell_type": "code",
   "execution_count": 231,
   "id": "844eccab",
   "metadata": {},
   "outputs": [],
   "source": [
    "with open(\"data.json\", \"w+\") as f:\n",
    "    json.dump(data, f)"
   ]
  },
  {
   "cell_type": "code",
   "execution_count": 232,
   "id": "3e640e17",
   "metadata": {},
   "outputs": [],
   "source": [
    "!open data.json"
   ]
  },
  {
   "cell_type": "code",
   "execution_count": 233,
   "id": "a85360e5",
   "metadata": {},
   "outputs": [
    {
     "data": {
      "text/plain": [
       "['WebPage', 'Product']"
      ]
     },
     "execution_count": 233,
     "metadata": {},
     "output_type": "execute_result"
    }
   ],
   "source": [
    "[d['@type'] for d in data['@graph']]"
   ]
  },
  {
   "cell_type": "code",
   "execution_count": 234,
   "id": "6e5b44ca",
   "metadata": {},
   "outputs": [],
   "source": [
    "# there is just one product below\n",
    "# indexing like that might cause an error in the future"
   ]
  },
  {
   "cell_type": "code",
   "execution_count": 235,
   "id": "70f46c00",
   "metadata": {
    "scrolled": true
   },
   "outputs": [],
   "source": [
    "offers = [d for d in data['@graph'] if d['@type'] == 'Product'][0]['offers']['offers']"
   ]
  },
  {
   "cell_type": "code",
   "execution_count": 236,
   "id": "a957c796",
   "metadata": {},
   "outputs": [],
   "source": [
    "df = pd.DataFrame(offers)"
   ]
  },
  {
   "cell_type": "code",
   "execution_count": 237,
   "id": "80108c9c",
   "metadata": {},
   "outputs": [
    {
     "data": {
      "text/plain": [
       "Index(['@type', 'availability', 'image', 'price', 'priceCurrency', 'name',\n",
       "       'url', 'itemOffered'],\n",
       "      dtype='object')"
      ]
     },
     "execution_count": 237,
     "metadata": {},
     "output_type": "execute_result"
    }
   ],
   "source": [
    "df.columns"
   ]
  },
  {
   "cell_type": "code",
   "execution_count": 238,
   "id": "90928526",
   "metadata": {
    "scrolled": true
   },
   "outputs": [
    {
     "data": {
      "text/plain": [
       "{'@type': 'Accommodation',\n",
       " 'description': 'Świetne 5 pokojowe mieszkanie na sprzedaż w miejscowości Gdańsk, Śródmieście, Stare Miasto, za cenę 1 559 000 zł. To mieszkanie na sprzedaż  na 2 piętrze ma 124,25 m² powierzchni użytkowej i 124,25 m² powierzchni całkowitej. Właściciel jako najważniejsze zalety mieszkania wymienia: balkon, piwnica, oddzielna kuchnia. Otodom 64226978',\n",
       " 'address': {'@type': 'PostalAddress',\n",
       "  'addressCountry': 'Polska',\n",
       "  'addressLocality': 'Gdańsk',\n",
       "  'addressRegion': 'pomorskie',\n",
       "  'streetAddress': 'ul. Rybaki Górne'},\n",
       " 'numberOfRooms': 5,\n",
       " 'floorSize': {'@type': 'QuantitativeValue',\n",
       "  'value': 124.25,\n",
       "  'unitCode': 'MTK'}}"
      ]
     },
     "execution_count": 238,
     "metadata": {},
     "output_type": "execute_result"
    }
   ],
   "source": [
    "df.iloc[0]['itemOffered']"
   ]
  },
  {
   "cell_type": "code",
   "execution_count": 239,
   "id": "9c024c53",
   "metadata": {},
   "outputs": [],
   "source": [
    "# TODO got to check if the @type: QuantitativeValue is defined for every floorSize the same way"
   ]
  },
  {
   "cell_type": "code",
   "execution_count": 240,
   "id": "4745787c",
   "metadata": {},
   "outputs": [],
   "source": [
    "def address_to_cords(address: dict) -> dict:\n",
    "    return {}"
   ]
  },
  {
   "cell_type": "code",
   "execution_count": 241,
   "id": "2beb87a4",
   "metadata": {},
   "outputs": [],
   "source": [
    "def address_to_string(address: dict) -> str:\n",
    "    return \"{} {} {} {}\".format(\n",
    "        address[\"addressCountry\"],\n",
    "        address[\"addressLocality\"],\n",
    "        address[\"addressRegion\"], \n",
    "        address[\"streetAddress\"] if \"streetAddress\" in address else \"\",\n",
    "    )"
   ]
  },
  {
   "cell_type": "code",
   "execution_count": 242,
   "id": "9da2655f",
   "metadata": {},
   "outputs": [],
   "source": [
    "floor_sizes = []\n",
    "numbers_of_rooms = []\n",
    "addresses = []\n",
    "cities = []\n",
    "# regions = []\n",
    "for i in range(len(df)):\n",
    "    item = df['itemOffered'][i]\n",
    "    floor_sizes.append(item['floorSize']['value'])\n",
    "    numbers_of_rooms.append(item['numberOfRooms'])\n",
    "    addresses.append(address_to_string(item['address']))\n",
    "    cities.append(item['address']['addressLocality'])\n",
    "    # regions.append(item['address']['addressRegion'])"
   ]
  },
  {
   "cell_type": "code",
   "execution_count": 243,
   "id": "8b65b20c",
   "metadata": {},
   "outputs": [],
   "source": [
    "df['floorSize'] = floor_sizes\n",
    "df['address'] = addresses\n",
    "df['numberOfRooms'] = numbers_of_rooms\n",
    "df['city'] = cities\n",
    "# df['region'] = region"
   ]
  },
  {
   "cell_type": "code",
   "execution_count": 244,
   "id": "4f1b290c",
   "metadata": {},
   "outputs": [],
   "source": [
    "# preprocess to only contain the relevant information\n",
    "clean_df = df[['price', 'name', 'floorSize', 'address', 'numberOfRooms', 'city']]"
   ]
  },
  {
   "cell_type": "code",
   "execution_count": 245,
   "id": "443cf871",
   "metadata": {},
   "outputs": [],
   "source": [
    "import pickle\n",
    "\n",
    "with open(\"df.pkl\", \"wb+\") as f:\n",
    "    pickle.dump(clean_df, f)"
   ]
  },
  {
   "cell_type": "code",
   "execution_count": 246,
   "id": "6093cc9f",
   "metadata": {},
   "outputs": [
    {
     "data": {
      "text/html": [
       "<div>\n",
       "<style scoped>\n",
       "    .dataframe tbody tr th:only-of-type {\n",
       "        vertical-align: middle;\n",
       "    }\n",
       "\n",
       "    .dataframe tbody tr th {\n",
       "        vertical-align: top;\n",
       "    }\n",
       "\n",
       "    .dataframe thead th {\n",
       "        text-align: right;\n",
       "    }\n",
       "</style>\n",
       "<table border=\"1\" class=\"dataframe\">\n",
       "  <thead>\n",
       "    <tr style=\"text-align: right;\">\n",
       "      <th></th>\n",
       "      <th>price</th>\n",
       "      <th>name</th>\n",
       "      <th>floorSize</th>\n",
       "      <th>address</th>\n",
       "      <th>numberOfRooms</th>\n",
       "      <th>city</th>\n",
       "    </tr>\n",
       "  </thead>\n",
       "  <tbody>\n",
       "    <tr>\n",
       "      <th>0</th>\n",
       "      <td>1559000.0</td>\n",
       "      <td>Gdańsk, Stare Miasto, Apartament, Rybaki Górne</td>\n",
       "      <td>124.25</td>\n",
       "      <td>Polska Gdańsk pomorskie ul. Rybaki Górne</td>\n",
       "      <td>5</td>\n",
       "      <td>Gdańsk</td>\n",
       "    </tr>\n",
       "    <tr>\n",
       "      <th>1</th>\n",
       "      <td>1130000.0</td>\n",
       "      <td>2 pokoje w środku parku! Ogród, fitness, plaża</td>\n",
       "      <td>46.40</td>\n",
       "      <td>Polska Gdańsk pomorskie ul. Nadmorski Dwór</td>\n",
       "      <td>2</td>\n",
       "      <td>Gdańsk</td>\n",
       "    </tr>\n",
       "    <tr>\n",
       "      <th>2</th>\n",
       "      <td>670000.0</td>\n",
       "      <td>Mieszkanie 5 min do plaży</td>\n",
       "      <td>58.13</td>\n",
       "      <td>Polska Gdańsk pomorskie ul. Gdańska</td>\n",
       "      <td>3</td>\n",
       "      <td>Gdańsk</td>\n",
       "    </tr>\n",
       "    <tr>\n",
       "      <th>3</th>\n",
       "      <td>500000.0</td>\n",
       "      <td>2 pokoje we Wrzeszczu</td>\n",
       "      <td>37.00</td>\n",
       "      <td>Polska Gdańsk pomorskie ul. Romualda Traugutta</td>\n",
       "      <td>2</td>\n",
       "      <td>Gdańsk</td>\n",
       "    </tr>\n",
       "    <tr>\n",
       "      <th>4</th>\n",
       "      <td>807639.0</td>\n",
       "      <td>3-pokojowe mieszkanie 54m2 + balkon</td>\n",
       "      <td>54.60</td>\n",
       "      <td>Polska Gdańsk pomorskie ul. Stefana Jaracza</td>\n",
       "      <td>3</td>\n",
       "      <td>Gdańsk</td>\n",
       "    </tr>\n",
       "    <tr>\n",
       "      <th>...</th>\n",
       "      <td>...</td>\n",
       "      <td>...</td>\n",
       "      <td>...</td>\n",
       "      <td>...</td>\n",
       "      <td>...</td>\n",
       "      <td>...</td>\n",
       "    </tr>\n",
       "    <tr>\n",
       "      <th>58</th>\n",
       "      <td>1250000.0</td>\n",
       "      <td>3 pokojowy nowy apartament Nad Motławą z widokiem</td>\n",
       "      <td>50.00</td>\n",
       "      <td>Polska Gdańsk pomorskie ul. Toruńska</td>\n",
       "      <td>3</td>\n",
       "      <td>Gdańsk</td>\n",
       "    </tr>\n",
       "    <tr>\n",
       "      <th>59</th>\n",
       "      <td>556000.0</td>\n",
       "      <td>Mieszkanie 45,77 Lawendowe Wzgórze</td>\n",
       "      <td>45.77</td>\n",
       "      <td>Polska Gdańsk pomorskie ul. Lawendowe Wzgórze</td>\n",
       "      <td>2</td>\n",
       "      <td>Gdańsk</td>\n",
       "    </tr>\n",
       "    <tr>\n",
       "      <th>60</th>\n",
       "      <td>780000.0</td>\n",
       "      <td>Dwupoziomowe, 4 pokoje, 2 balkony, Osowa!</td>\n",
       "      <td>96.00</td>\n",
       "      <td>Polska Gdańsk pomorskie ul. Antygony</td>\n",
       "      <td>4</td>\n",
       "      <td>Gdańsk</td>\n",
       "    </tr>\n",
       "    <tr>\n",
       "      <th>61</th>\n",
       "      <td>750000.0</td>\n",
       "      <td>Apartamentowiec 2 pokoje, Przymorze</td>\n",
       "      <td>39.50</td>\n",
       "      <td>Polska Gdańsk pomorskie</td>\n",
       "      <td>2</td>\n",
       "      <td>Gdańsk</td>\n",
       "    </tr>\n",
       "    <tr>\n",
       "      <th>62</th>\n",
       "      <td>1330000.0</td>\n",
       "      <td>Top Lokaliza, cisza, piękna kamienica ,Gdańsk Śr.</td>\n",
       "      <td>92.00</td>\n",
       "      <td>Polska Gdańsk pomorskie ul. Wałowa</td>\n",
       "      <td>3</td>\n",
       "      <td>Gdańsk</td>\n",
       "    </tr>\n",
       "  </tbody>\n",
       "</table>\n",
       "<p>63 rows × 6 columns</p>\n",
       "</div>"
      ],
      "text/plain": [
       "        price                                               name  floorSize  \\\n",
       "0   1559000.0     Gdańsk, Stare Miasto, Apartament, Rybaki Górne     124.25   \n",
       "1   1130000.0     2 pokoje w środku parku! Ogród, fitness, plaża      46.40   \n",
       "2    670000.0                          Mieszkanie 5 min do plaży      58.13   \n",
       "3    500000.0                              2 pokoje we Wrzeszczu      37.00   \n",
       "4    807639.0                3-pokojowe mieszkanie 54m2 + balkon      54.60   \n",
       "..        ...                                                ...        ...   \n",
       "58  1250000.0  3 pokojowy nowy apartament Nad Motławą z widokiem      50.00   \n",
       "59   556000.0                 Mieszkanie 45,77 Lawendowe Wzgórze      45.77   \n",
       "60   780000.0          Dwupoziomowe, 4 pokoje, 2 balkony, Osowa!      96.00   \n",
       "61   750000.0                Apartamentowiec 2 pokoje, Przymorze      39.50   \n",
       "62  1330000.0  Top Lokaliza, cisza, piękna kamienica ,Gdańsk Śr.      92.00   \n",
       "\n",
       "                                           address  numberOfRooms    city  \n",
       "0         Polska Gdańsk pomorskie ul. Rybaki Górne              5  Gdańsk  \n",
       "1       Polska Gdańsk pomorskie ul. Nadmorski Dwór              2  Gdańsk  \n",
       "2              Polska Gdańsk pomorskie ul. Gdańska              3  Gdańsk  \n",
       "3   Polska Gdańsk pomorskie ul. Romualda Traugutta              2  Gdańsk  \n",
       "4      Polska Gdańsk pomorskie ul. Stefana Jaracza              3  Gdańsk  \n",
       "..                                             ...            ...     ...  \n",
       "58            Polska Gdańsk pomorskie ul. Toruńska              3  Gdańsk  \n",
       "59   Polska Gdańsk pomorskie ul. Lawendowe Wzgórze              2  Gdańsk  \n",
       "60            Polska Gdańsk pomorskie ul. Antygony              4  Gdańsk  \n",
       "61                        Polska Gdańsk pomorskie               2  Gdańsk  \n",
       "62              Polska Gdańsk pomorskie ul. Wałowa              3  Gdańsk  \n",
       "\n",
       "[63 rows x 6 columns]"
      ]
     },
     "execution_count": 246,
     "metadata": {},
     "output_type": "execute_result"
    }
   ],
   "source": [
    "clean_df"
   ]
  },
  {
   "cell_type": "code",
   "execution_count": 252,
   "id": "99c088d0",
   "metadata": {},
   "outputs": [],
   "source": [
    "import numpy as np\n",
    "\n",
    "from sklearn.model_selection import train_test_split\n",
    "from sklearn.linear_model import LinearRegression\n",
    "from sklearn.metrics import mean_squared_error\n",
    "from sklearn.preprocessing import StandardScaler, OneHotEncoder\n",
    "from sklearn.compose import ColumnTransformer\n",
    "from sklearn.pipeline import Pipeline"
   ]
  },
  {
   "cell_type": "code",
   "execution_count": 260,
   "id": "f555673a",
   "metadata": {},
   "outputs": [
    {
     "name": "stdout",
     "output_type": "stream",
     "text": [
      "Root Mean Squared Error: 505185.87157111114\n"
     ]
    },
    {
     "name": "stderr",
     "output_type": "stream",
     "text": [
      "/Users/piotrostr/.pyenv/versions/3.11.3/lib/python3.11/site-packages/sklearn/base.py:464: UserWarning: X does not have valid feature names, but LinearRegression was fitted with feature names\n",
      "  warnings.warn(\n"
     ]
    }
   ],
   "source": [
    "X = df[['floorSize', 'numberOfRooms']]\n",
    "\n",
    "# Target variable\n",
    "y = df['price']\n",
    "\n",
    "# Step 2: Train-Test Split\n",
    "X_train, X_test, y_train, y_test = train_test_split(X, y, test_size=0.2, random_state=42)\n",
    "\n",
    "# Step 3: Model Training\n",
    "model = LinearRegression()\n",
    "model.fit(X_train, y_train)\n",
    "\n",
    "# Generate predictions and plot regression line\n",
    "x_range = np.linspace(X.min(), X.max(), 100)\n",
    "y_pred_line = model.predict(x_range)\n",
    "\n",
    "# Step 4: Model Evaluation\n",
    "y_pred = model.predict(X_test)\n",
    "print(f\"Root Mean Squared Error: {mean_squared_error(y_test, y_pred, squared=False)}\")"
   ]
  },
  {
   "cell_type": "code",
   "execution_count": 249,
   "id": "5594934e",
   "metadata": {},
   "outputs": [],
   "source": [
    "!pip install -q matplotlib"
   ]
  },
  {
   "cell_type": "code",
   "execution_count": 266,
   "id": "d141365b",
   "metadata": {},
   "outputs": [
    {
     "data": {
      "image/png": "[encoded data removed]",
      "text/plain": [
       "<Figure size 640x480 with 1 Axes>"
      ]
     },
     "metadata": {},
     "output_type": "display_data"
    }
   ],
   "source": [
    "import matplotlib.pyplot as plt\n",
    "import pandas as pd\n",
    "\n",
    "# Assuming you have already created the 'city' column in your dataframe\n",
    "# df['city'] = ...\n",
    "\n",
    "# Scatter plot\n",
    "fig, ax = plt.subplots()\n",
    "ax.scatter(clean_df['floorSize'], clean_df['price'])\n",
    "ax.set_xlabel('Floor Size (m^2)')\n",
    "ax.set_ylabel('Price (PLN)')\n",
    "ax.set_title('Price vs Floor Size')\n",
    "\n",
    "plt.show()"
   ]
  },
  {
   "cell_type": "code",
   "execution_count": 267,
   "id": "19ef563d",
   "metadata": {},
   "outputs": [],
   "source": [
    "df['price_per_m2'] = df['price'] / df['floorSize']"
   ]
  },
  {
   "cell_type": "code",
   "execution_count": 269,
   "id": "7b213458",
   "metadata": {},
   "outputs": [
    {
     "name": "stderr",
     "output_type": "stream",
     "text": [
      "/var/folders/t_/c87kvtx965d_dmwgdt0bzdrm010cps/T/ipykernel_26447/1382230013.py:1: UserWarning: Boolean Series key will be reindexed to match DataFrame index.\n",
      "  df.sort_values(by=\"price_per_m2\")[df['price'] <= 500_000]\n"
     ]
    },
    {
     "data": {
      "text/html": [
       "<div>\n",
       "<style scoped>\n",
       "    .dataframe tbody tr th:only-of-type {\n",
       "        vertical-align: middle;\n",
       "    }\n",
       "\n",
       "    .dataframe tbody tr th {\n",
       "        vertical-align: top;\n",
       "    }\n",
       "\n",
       "    .dataframe thead th {\n",
       "        text-align: right;\n",
       "    }\n",
       "</style>\n",
       "<table border=\"1\" class=\"dataframe\">\n",
       "  <thead>\n",
       "    <tr style=\"text-align: right;\">\n",
       "      <th></th>\n",
       "      <th>@type</th>\n",
       "      <th>availability</th>\n",
       "      <th>image</th>\n",
       "      <th>price</th>\n",
       "      <th>priceCurrency</th>\n",
       "      <th>name</th>\n",
       "      <th>url</th>\n",
       "      <th>itemOffered</th>\n",
       "      <th>floorSize</th>\n",
       "      <th>address</th>\n",
       "      <th>numberOfRooms</th>\n",
       "      <th>city</th>\n",
       "      <th>price_per_m2</th>\n",
       "    </tr>\n",
       "  </thead>\n",
       "  <tbody>\n",
       "    <tr>\n",
       "      <th>51</th>\n",
       "      <td>Offer</td>\n",
       "      <td>InStock</td>\n",
       "      <td>https://ireland.apollo.olxcdn.com/v1/files/eyJ...</td>\n",
       "      <td>407000.0</td>\n",
       "      <td>PLN</td>\n",
       "      <td>2-pokojowe mieszkanie 46m2 + ogródek Bez Prowizji</td>\n",
       "      <td>https://www.otodom.pl/pl/oferta/2-pokojowe-mie...</td>\n",
       "      <td>{'@type': 'Accommodation', 'description': 'Świ...</td>\n",
       "      <td>46.72</td>\n",
       "      <td>Polska Gdańsk pomorskie ul. Starogardzka</td>\n",
       "      <td>2</td>\n",
       "      <td>Gdańsk</td>\n",
       "      <td>8711.472603</td>\n",
       "    </tr>\n",
       "    <tr>\n",
       "      <th>9</th>\n",
       "      <td>Offer</td>\n",
       "      <td>InStock</td>\n",
       "      <td>https://ireland.apollo.olxcdn.com/v1/files/eyJ...</td>\n",
       "      <td>469000.0</td>\n",
       "      <td>PLN</td>\n",
       "      <td>Nova Stężycka - kameralna inwestycja na Jasieniu!</td>\n",
       "      <td>https://www.otodom.pl/pl/oferta/nova-stezycka-...</td>\n",
       "      <td>{'@type': 'Accommodation', 'description': 'Świ...</td>\n",
       "      <td>49.00</td>\n",
       "      <td>Polska Gdańsk pomorskie ul. Stężycka</td>\n",
       "      <td>3</td>\n",
       "      <td>Gdańsk</td>\n",
       "      <td>9571.428571</td>\n",
       "    </tr>\n",
       "    <tr>\n",
       "      <th>31</th>\n",
       "      <td>Offer</td>\n",
       "      <td>InStock</td>\n",
       "      <td>https://ireland.apollo.olxcdn.com/v1/files/eyJ...</td>\n",
       "      <td>441800.0</td>\n",
       "      <td>PLN</td>\n",
       "      <td>Powrót do SPRZEDAŻY _ Nowe 2 pokoje +OGRÓD PRE...</td>\n",
       "      <td>https://www.otodom.pl/pl/oferta/powrot-do-sprz...</td>\n",
       "      <td>{'@type': 'Accommodation', 'description': 'Świ...</td>\n",
       "      <td>44.13</td>\n",
       "      <td>Polska Gdańsk pomorskie</td>\n",
       "      <td>3</td>\n",
       "      <td>Gdańsk</td>\n",
       "      <td>10011.330161</td>\n",
       "    </tr>\n",
       "    <tr>\n",
       "      <th>52</th>\n",
       "      <td>Offer</td>\n",
       "      <td>InStock</td>\n",
       "      <td>https://ireland.apollo.olxcdn.com/v1/files/eyJ...</td>\n",
       "      <td>497000.0</td>\n",
       "      <td>PLN</td>\n",
       "      <td>2 pokoje z osobną kuchnią od południa</td>\n",
       "      <td>https://www.otodom.pl/pl/oferta/2-pokoje-z-oso...</td>\n",
       "      <td>{'@type': 'Accommodation', 'description': 'Świ...</td>\n",
       "      <td>48.20</td>\n",
       "      <td>Polska Gdańsk pomorskie ul. Leszczyńskich</td>\n",
       "      <td>2</td>\n",
       "      <td>Gdańsk</td>\n",
       "      <td>10311.203320</td>\n",
       "    </tr>\n",
       "    <tr>\n",
       "      <th>32</th>\n",
       "      <td>Offer</td>\n",
       "      <td>InStock</td>\n",
       "      <td>https://ireland.apollo.olxcdn.com/v1/files/eyJ...</td>\n",
       "      <td>432800.0</td>\n",
       "      <td>PLN</td>\n",
       "      <td>Gotowe 2 pokoje _ Ostatnie sztuki -&gt; 26.08 ZOBACZ</td>\n",
       "      <td>https://www.otodom.pl/pl/oferta/gotowe-2-pokoj...</td>\n",
       "      <td>{'@type': 'Accommodation', 'description': 'Świ...</td>\n",
       "      <td>41.93</td>\n",
       "      <td>Polska Gdańsk pomorskie</td>\n",
       "      <td>2</td>\n",
       "      <td>Gdańsk</td>\n",
       "      <td>10321.965180</td>\n",
       "    </tr>\n",
       "    <tr>\n",
       "      <th>33</th>\n",
       "      <td>Offer</td>\n",
       "      <td>InStock</td>\n",
       "      <td>https://ireland.apollo.olxcdn.com/v1/files/eyJ...</td>\n",
       "      <td>465551.0</td>\n",
       "      <td>PLN</td>\n",
       "      <td>2-pokojowe mieszkanie 42m2 + ogródek</td>\n",
       "      <td>https://www.otodom.pl/pl/oferta/2-pokojowe-mie...</td>\n",
       "      <td>{'@type': 'Accommodation', 'description': 'Świ...</td>\n",
       "      <td>42.59</td>\n",
       "      <td>Polska Gdańsk pomorskie prof. Jerzego Stankiew...</td>\n",
       "      <td>2</td>\n",
       "      <td>Gdańsk</td>\n",
       "      <td>10930.993191</td>\n",
       "    </tr>\n",
       "    <tr>\n",
       "      <th>53</th>\n",
       "      <td>Offer</td>\n",
       "      <td>InStock</td>\n",
       "      <td>https://ireland.apollo.olxcdn.com/v1/files/eyJ...</td>\n",
       "      <td>467000.0</td>\n",
       "      <td>PLN</td>\n",
       "      <td>Słoneczne mieszkanie taras Gdańsk Lotnisko Ikea</td>\n",
       "      <td>https://www.otodom.pl/pl/oferta/sloneczne-mies...</td>\n",
       "      <td>{'@type': 'Accommodation', 'description': 'Świ...</td>\n",
       "      <td>39.18</td>\n",
       "      <td>Polska Gdańsk pomorskie ul. Podchorążych</td>\n",
       "      <td>2</td>\n",
       "      <td>Gdańsk</td>\n",
       "      <td>11919.346605</td>\n",
       "    </tr>\n",
       "    <tr>\n",
       "      <th>49</th>\n",
       "      <td>Offer</td>\n",
       "      <td>InStock</td>\n",
       "      <td>https://ireland.apollo.olxcdn.com/v1/files/eyJ...</td>\n",
       "      <td>487159.0</td>\n",
       "      <td>PLN</td>\n",
       "      <td>1-pokojowe mieszkanie 36m2 + ogródek Bezpośrednio</td>\n",
       "      <td>https://www.otodom.pl/pl/oferta/1-pokojowe-mie...</td>\n",
       "      <td>{'@type': 'Accommodation', 'description': 'Świ...</td>\n",
       "      <td>36.38</td>\n",
       "      <td>Polska Gdańsk pomorskie Starowiejska/ul. Sucha</td>\n",
       "      <td>1</td>\n",
       "      <td>Gdańsk</td>\n",
       "      <td>13390.846619</td>\n",
       "    </tr>\n",
       "    <tr>\n",
       "      <th>3</th>\n",
       "      <td>Offer</td>\n",
       "      <td>InStock</td>\n",
       "      <td>https://ireland.apollo.olxcdn.com/v1/files/eyJ...</td>\n",
       "      <td>500000.0</td>\n",
       "      <td>PLN</td>\n",
       "      <td>2 pokoje we Wrzeszczu</td>\n",
       "      <td>https://www.otodom.pl/pl/oferta/2-pokoje-we-wr...</td>\n",
       "      <td>{'@type': 'Accommodation', 'description': 'Świ...</td>\n",
       "      <td>37.00</td>\n",
       "      <td>Polska Gdańsk pomorskie ul. Romualda Traugutta</td>\n",
       "      <td>2</td>\n",
       "      <td>Gdańsk</td>\n",
       "      <td>13513.513514</td>\n",
       "    </tr>\n",
       "    <tr>\n",
       "      <th>15</th>\n",
       "      <td>Offer</td>\n",
       "      <td>InStock</td>\n",
       "      <td>https://ireland.apollo.olxcdn.com/v1/files/eyJ...</td>\n",
       "      <td>459000.0</td>\n",
       "      <td>PLN</td>\n",
       "      <td>Przymorze dwa pokoje blisko morza z balkonem</td>\n",
       "      <td>https://www.otodom.pl/pl/oferta/przymorze-dwa-...</td>\n",
       "      <td>{'@type': 'Accommodation', 'description': 'Świ...</td>\n",
       "      <td>30.00</td>\n",
       "      <td>Polska Gdańsk pomorskie ul. Obrońców Wybrzeża</td>\n",
       "      <td>2</td>\n",
       "      <td>Gdańsk</td>\n",
       "      <td>15300.000000</td>\n",
       "    </tr>\n",
       "  </tbody>\n",
       "</table>\n",
       "</div>"
      ],
      "text/plain": [
       "    @type availability                                              image  \\\n",
       "51  Offer      InStock  https://ireland.apollo.olxcdn.com/v1/files/eyJ...   \n",
       "9   Offer      InStock  https://ireland.apollo.olxcdn.com/v1/files/eyJ...   \n",
       "31  Offer      InStock  https://ireland.apollo.olxcdn.com/v1/files/eyJ...   \n",
       "52  Offer      InStock  https://ireland.apollo.olxcdn.com/v1/files/eyJ...   \n",
       "32  Offer      InStock  https://ireland.apollo.olxcdn.com/v1/files/eyJ...   \n",
       "33  Offer      InStock  https://ireland.apollo.olxcdn.com/v1/files/eyJ...   \n",
       "53  Offer      InStock  https://ireland.apollo.olxcdn.com/v1/files/eyJ...   \n",
       "49  Offer      InStock  https://ireland.apollo.olxcdn.com/v1/files/eyJ...   \n",
       "3   Offer      InStock  https://ireland.apollo.olxcdn.com/v1/files/eyJ...   \n",
       "15  Offer      InStock  https://ireland.apollo.olxcdn.com/v1/files/eyJ...   \n",
       "\n",
       "       price priceCurrency                                               name  \\\n",
       "51  407000.0           PLN  2-pokojowe mieszkanie 46m2 + ogródek Bez Prowizji   \n",
       "9   469000.0           PLN  Nova Stężycka - kameralna inwestycja na Jasieniu!   \n",
       "31  441800.0           PLN  Powrót do SPRZEDAŻY _ Nowe 2 pokoje +OGRÓD PRE...   \n",
       "52  497000.0           PLN              2 pokoje z osobną kuchnią od południa   \n",
       "32  432800.0           PLN  Gotowe 2 pokoje _ Ostatnie sztuki -> 26.08 ZOBACZ   \n",
       "33  465551.0           PLN               2-pokojowe mieszkanie 42m2 + ogródek   \n",
       "53  467000.0           PLN    Słoneczne mieszkanie taras Gdańsk Lotnisko Ikea   \n",
       "49  487159.0           PLN  1-pokojowe mieszkanie 36m2 + ogródek Bezpośrednio   \n",
       "3   500000.0           PLN                              2 pokoje we Wrzeszczu   \n",
       "15  459000.0           PLN       Przymorze dwa pokoje blisko morza z balkonem   \n",
       "\n",
       "                                                  url  \\\n",
       "51  https://www.otodom.pl/pl/oferta/2-pokojowe-mie...   \n",
       "9   https://www.otodom.pl/pl/oferta/nova-stezycka-...   \n",
       "31  https://www.otodom.pl/pl/oferta/powrot-do-sprz...   \n",
       "52  https://www.otodom.pl/pl/oferta/2-pokoje-z-oso...   \n",
       "32  https://www.otodom.pl/pl/oferta/gotowe-2-pokoj...   \n",
       "33  https://www.otodom.pl/pl/oferta/2-pokojowe-mie...   \n",
       "53  https://www.otodom.pl/pl/oferta/sloneczne-mies...   \n",
       "49  https://www.otodom.pl/pl/oferta/1-pokojowe-mie...   \n",
       "3   https://www.otodom.pl/pl/oferta/2-pokoje-we-wr...   \n",
       "15  https://www.otodom.pl/pl/oferta/przymorze-dwa-...   \n",
       "\n",
       "                                          itemOffered  floorSize  \\\n",
       "51  {'@type': 'Accommodation', 'description': 'Świ...      46.72   \n",
       "9   {'@type': 'Accommodation', 'description': 'Świ...      49.00   \n",
       "31  {'@type': 'Accommodation', 'description': 'Świ...      44.13   \n",
       "52  {'@type': 'Accommodation', 'description': 'Świ...      48.20   \n",
       "32  {'@type': 'Accommodation', 'description': 'Świ...      41.93   \n",
       "33  {'@type': 'Accommodation', 'description': 'Świ...      42.59   \n",
       "53  {'@type': 'Accommodation', 'description': 'Świ...      39.18   \n",
       "49  {'@type': 'Accommodation', 'description': 'Świ...      36.38   \n",
       "3   {'@type': 'Accommodation', 'description': 'Świ...      37.00   \n",
       "15  {'@type': 'Accommodation', 'description': 'Świ...      30.00   \n",
       "\n",
       "                                              address  numberOfRooms    city  \\\n",
       "51           Polska Gdańsk pomorskie ul. Starogardzka              2  Gdańsk   \n",
       "9                Polska Gdańsk pomorskie ul. Stężycka              3  Gdańsk   \n",
       "31                           Polska Gdańsk pomorskie               3  Gdańsk   \n",
       "52          Polska Gdańsk pomorskie ul. Leszczyńskich              2  Gdańsk   \n",
       "32                           Polska Gdańsk pomorskie               2  Gdańsk   \n",
       "33  Polska Gdańsk pomorskie prof. Jerzego Stankiew...              2  Gdańsk   \n",
       "53           Polska Gdańsk pomorskie ul. Podchorążych              2  Gdańsk   \n",
       "49     Polska Gdańsk pomorskie Starowiejska/ul. Sucha              1  Gdańsk   \n",
       "3      Polska Gdańsk pomorskie ul. Romualda Traugutta              2  Gdańsk   \n",
       "15      Polska Gdańsk pomorskie ul. Obrońców Wybrzeża              2  Gdańsk   \n",
       "\n",
       "    price_per_m2  \n",
       "51   8711.472603  \n",
       "9    9571.428571  \n",
       "31  10011.330161  \n",
       "52  10311.203320  \n",
       "32  10321.965180  \n",
       "33  10930.993191  \n",
       "53  11919.346605  \n",
       "49  13390.846619  \n",
       "3   13513.513514  \n",
       "15  15300.000000  "
      ]
     },
     "execution_count": 269,
     "metadata": {},
     "output_type": "execute_result"
    }
   ],
   "source": [
    "df.sort_values(by=\"price_per_m2\")[df['price'] <= 500_000]"
   ]
  }
 ],
 "metadata": {
  "kernelspec": {
   "display_name": "Python 3 (ipykernel)",
   "language": "python",
   "name": "python3"
  },
  "language_info": {
   "codemirror_mode": {
    "name": "ipython",
    "version": 3
   },
   "file_extension": ".py",
   "mimetype": "text/x-python",
   "name": "python",
   "nbconvert_exporter": "python",
   "pygments_lexer": "ipython3",
   "version": "3.11.3"
  }
 },
 "nbformat": 4,
 "nbformat_minor": 5
}
