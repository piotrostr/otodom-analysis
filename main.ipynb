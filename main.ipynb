{
 "cells": [
  {
   "cell_type": "code",
   "execution_count": 1,
   "metadata": {},
   "outputs": [
    {
     "name": "stdout",
     "output_type": "stream",
     "text": [
      "Loaded Geocode cache of length: 1013\n",
      "Loaded Ammenities cache of length: 2\n",
      "/maps/api/place/nearbysearch/json {'minprice': None, 'maxprice': None, 'location': '54.3520252,18.6466384', 'radius': 10000, 'keyword': 'biedronka'}\n",
      "OK\n",
      "/maps/api/place/nearbysearch/json {'minprice': None, 'maxprice': None, 'location': '54.3520252,18.6466384', 'radius': 10000, 'keyword': 'biedronka', 'page_token': 'AUacShjjBz0RqZNknsBT3voHCwl0vxJAbAuush619BEWgcO0RcObj8mswvCDVQYxZgi5G1fzcOZwNg31tE-7KaBV-7r4dZP63uwWbvb-ke5hHoRKTbxsUqHPlAAZh1JwkHDOZ8ffHtdIf9FuNDIUuXubDFnlGwYLnp6np3QqxL70gClBXXzcd9RtfCAKi7QLvi4h1QCOOHYTlvIHbyIX6mCkL4JossqytweJiymuOcWZqJ3glKcEgpPJEejvYWN39Cqii2Njff5TZWB6mhh0IJgkm-rtBzAWNXFF9lrtH8ArtMpccKTykjiEHOLreqHfNLngiwFuSxZrQ3YC-Wj8e3W_YNs4E5lCjt1_Ayhj2nejbYtpwKuxYLfz52yJf8eNejS1AYQSSuLq84r99YRN6vu6_tBOPCeab9K6h1pZBbci5XvSlRX3KbHIcUC2_18'}\n",
      "OK\n",
      "/maps/api/place/nearbysearch/json {'minprice': None, 'maxprice': None, 'location': '54.3520252,18.6466384', 'radius': 10000, 'keyword': 'biedronka', 'page_token': 'AUacShgr2u9Mi9y9ZFb32RVM78RGB28xnr5pIzXn8lH5deMmI_gl-WMzMOSRnNUmMIzOdWtErw14-je60qK0kBw60vyqH1aaFbTpnzI_b0Sitflwg9t5wGSCt_XqWpR6ri1zgJdjSTOWk0StoUbJEsrRdiwahOsXjTHbmD8Emor0asNULrxOCqSiUPR2Ih1xMrJAqZmwsdY1A10usAObW1MLpmaaZ9K73g1gRLnu5roRf_MtTaT_JcWE6ArmN_PoKb7kBEbdgGmF0I7DgcZPmSdru0T6brBtviCPfA_4VCER1eDO8iKEvgj0DEF64dUzd08vA3JougFqVQHqeMOWdVuYJgiqjWqh3e7TGGN-NoF2YG_LylzFZBkMtG-2GpJjcPJTrdNL3vEwv4jyLJU3oMEwpzTYqfv0CoNy2-FPyKDlTjioYS0jsbzDyEJh9z8'}\n",
      "OK\n",
      "/maps/api/place/nearbysearch/json {'minprice': None, 'maxprice': None, 'location': '54.3520252,18.6466384', 'radius': 10000, 'keyword': 'biedronka', 'page_token': 'AUacShikKVheNgjsWF7DS5ATihqoXrkAxJ6OLJg_7SXyueO911C_h7PekjNSdquQ89svgqgkp1uMK1OQoqDeshAof1VNv7iPl5PZmmpoK8R8ZXG8OkRcW2UADcz98zVckUIzKuRlNjLF1J5Dg4mtJeY8uLcBKLyk4rnyC2zw6_FsPpeM639Lm-SUj_OzgGB_2fjzPV5vrzCubqFqVMQLV7-P4jhLmYAsRm5FMWZBuuSAWbIIt462-4SuD6gqcb7RrfuPz4SMr6MaIjxpQIDYhyOgAtuQX6iiWeg4wfYZ49HDbq3JxopXI1cTnKMexFS1wJdwrWzu0K2pBdls1bhuNKQC3qp5HiYu6bZw4zadwOWf7RjbEUHvrLT-mXS2RCbtTJVFqaGnOct9ArRm13ZcQn6BbGV1I7wMARmt84VKobfnkO6xeWHekg4oyYhcl7g'}\n",
      "OK\n",
      "/maps/api/place/nearbysearch/json {'minprice': None, 'maxprice': None, 'location': '54.3520252,18.6466384', 'radius': 10000, 'keyword': 'biedronka', 'page_token': 'AUacShhTGY7yEWMk-wgvhbup5od5VXKB6o0p81RDvy_IOEAx5n9dJETqD4BbXCUDqVHY8p0K2gTTDrRyheawrlMzBvGWE5xTrXcar6eh0AOcX_o3suWU_WDfCetsLEFSsqC5NZQH7jMlqyoFbxlecZKoufkt5vY170Pa9anCHzcIGml3WoSCcqiZWXD3iImiw49Ln4mjXhvan3N25a6d3romspKuh0ou0Bxttst6QSmCr2ZdW3_E-3QPX3zLwuZtMfo9kWVWlCtwT_aRDNmmdsOg64ABlmwOojRBkEKtpdulzbZpSAS3OFe6X3Xwpgj5QUpa3zfbcmAVfxeo8KeXZT4qHUWmi98gfTTJe8c8mxDdWQAbtmgr1ZRE4zg33Xf4VsBCXTk-cMsZUzrlBH9Qgdwy7eXewqZRuaA91N16PkAYrfleKaL27jR3ZHXu8CA'}\n",
      "Skipping ChIJ-YPX85R0_UYRPKHPZnXyaS8\n",
      "Skipping ChIJxwefN3Rz_UYRgc2LIY70xYA\n",
      "Skipping ChIJhQcrIKdz_UYR_hXly_yxhlc\n",
      "Skipping ChIJB16GcoNz_UYRGX28wrnccq4\n",
      "Skipping ChIJJQ4MkNoK_UYRd-zM7JMpEjg\n",
      "Skipping ChIJYYJMC7l1_UYRtCdQNRS6CG8\n",
      "Skipping ChIJqVF-0ioL_UYRos9EyJ9enSw\n",
      "Skipping ChIJgSbNWAJ0_UYRqVsg-3Mt-I0\n",
      "Skipping ChIJURPgvKx2_UYRDLk8KtvCSh0\n",
      "Skipping ChIJdXAED2B0_UYRiU_6Rf3NlGk\n",
      "Skipping ChIJOXVjeygL_UYReVT1g1aWsJY\n",
      "Skipping ChIJnWtsyyd0_UYR0vbYkKdf8kI\n",
      "Skipping ChIJNx75BNF0_UYRDKwTXv-xnNo\n",
      "Skipping ChIJ4-gThDML_UYR1EUmS4vOKqY\n",
      "Skipping ChIJG_FyrQYL_UYRpt8Xb0sWnFc\n",
      "Skipping ChIJuWbhqQpz_UYRv_ridU8yhJ4\n",
      "Skipping ChIJZYJK-ikL_UYRFoE4wB3NZDg\n",
      "Skipping ChIJ-1s_Uu11_UYRce9hXFCZgDc\n",
      "Skipping ChIJsR-IRtQK_UYRO9AIU4tzkr0\n",
      "Skipping ChIJa0uwAF90_UYR7USvIkffQH8\n",
      "Skipping ChIJ-YPX85R0_UYRPKHPZnXyaS8\n",
      "Skipping ChIJxwefN3Rz_UYRgc2LIY70xYA\n",
      "Skipping ChIJhQcrIKdz_UYR_hXly_yxhlc\n",
      "Skipping ChIJB16GcoNz_UYRGX28wrnccq4\n",
      "Skipping ChIJJQ4MkNoK_UYRd-zM7JMpEjg\n",
      "Skipping ChIJYYJMC7l1_UYRtCdQNRS6CG8\n",
      "Skipping ChIJqVF-0ioL_UYRos9EyJ9enSw\n",
      "Skipping ChIJgSbNWAJ0_UYRqVsg-3Mt-I0\n",
      "Skipping ChIJURPgvKx2_UYRDLk8KtvCSh0\n",
      "Skipping ChIJdXAED2B0_UYRiU_6Rf3NlGk\n",
      "Skipping ChIJOXVjeygL_UYReVT1g1aWsJY\n",
      "Skipping ChIJnWtsyyd0_UYR0vbYkKdf8kI\n",
      "Skipping ChIJNx75BNF0_UYRDKwTXv-xnNo\n",
      "Skipping ChIJ4-gThDML_UYR1EUmS4vOKqY\n",
      "Skipping ChIJG_FyrQYL_UYRpt8Xb0sWnFc\n",
      "Skipping ChIJuWbhqQpz_UYRv_ridU8yhJ4\n",
      "Skipping ChIJZYJK-ikL_UYRFoE4wB3NZDg\n",
      "Skipping ChIJ-1s_Uu11_UYRce9hXFCZgDc\n",
      "Skipping ChIJsR-IRtQK_UYRO9AIU4tzkr0\n",
      "Skipping ChIJa0uwAF90_UYR7USvIkffQH8\n",
      "Skipping ChIJ-YPX85R0_UYRPKHPZnXyaS8\n",
      "Skipping ChIJxwefN3Rz_UYRgc2LIY70xYA\n",
      "Skipping ChIJhQcrIKdz_UYR_hXly_yxhlc\n",
      "Skipping ChIJB16GcoNz_UYRGX28wrnccq4\n",
      "Skipping ChIJJQ4MkNoK_UYRd-zM7JMpEjg\n",
      "Skipping ChIJYYJMC7l1_UYRtCdQNRS6CG8\n",
      "Skipping ChIJqVF-0ioL_UYRos9EyJ9enSw\n",
      "Skipping ChIJgSbNWAJ0_UYRqVsg-3Mt-I0\n",
      "Skipping ChIJURPgvKx2_UYRDLk8KtvCSh0\n",
      "Skipping ChIJdXAED2B0_UYRiU_6Rf3NlGk\n",
      "Skipping ChIJOXVjeygL_UYReVT1g1aWsJY\n",
      "Skipping ChIJnWtsyyd0_UYR0vbYkKdf8kI\n",
      "Skipping ChIJNx75BNF0_UYRDKwTXv-xnNo\n",
      "Skipping ChIJ4-gThDML_UYR1EUmS4vOKqY\n",
      "Skipping ChIJG_FyrQYL_UYRpt8Xb0sWnFc\n",
      "Skipping ChIJuWbhqQpz_UYRv_ridU8yhJ4\n",
      "Skipping ChIJZYJK-ikL_UYRFoE4wB3NZDg\n",
      "Skipping ChIJ-1s_Uu11_UYRce9hXFCZgDc\n",
      "Skipping ChIJsR-IRtQK_UYRO9AIU4tzkr0\n",
      "Skipping ChIJa0uwAF90_UYR7USvIkffQH8\n",
      "Skipping ChIJ-YPX85R0_UYRPKHPZnXyaS8\n",
      "Skipping ChIJxwefN3Rz_UYRgc2LIY70xYA\n",
      "Skipping ChIJhQcrIKdz_UYR_hXly_yxhlc\n",
      "Skipping ChIJB16GcoNz_UYRGX28wrnccq4\n",
      "Skipping ChIJJQ4MkNoK_UYRd-zM7JMpEjg\n",
      "Skipping ChIJYYJMC7l1_UYRtCdQNRS6CG8\n",
      "Skipping ChIJqVF-0ioL_UYRos9EyJ9enSw\n",
      "Skipping ChIJgSbNWAJ0_UYRqVsg-3Mt-I0\n",
      "Skipping ChIJURPgvKx2_UYRDLk8KtvCSh0\n",
      "Skipping ChIJdXAED2B0_UYRiU_6Rf3NlGk\n",
      "Skipping ChIJOXVjeygL_UYReVT1g1aWsJY\n",
      "Skipping ChIJnWtsyyd0_UYR0vbYkKdf8kI\n",
      "Skipping ChIJNx75BNF0_UYRDKwTXv-xnNo\n",
      "Skipping ChIJ4-gThDML_UYR1EUmS4vOKqY\n",
      "Skipping ChIJG_FyrQYL_UYRpt8Xb0sWnFc\n",
      "Skipping ChIJuWbhqQpz_UYRv_ridU8yhJ4\n",
      "Skipping ChIJZYJK-ikL_UYRFoE4wB3NZDg\n",
      "Skipping ChIJ-1s_Uu11_UYRce9hXFCZgDc\n",
      "Skipping ChIJsR-IRtQK_UYRO9AIU4tzkr0\n",
      "Skipping ChIJa0uwAF90_UYR7USvIkffQH8\n",
      "Skipping ChIJ-YPX85R0_UYRPKHPZnXyaS8\n",
      "Skipping ChIJxwefN3Rz_UYRgc2LIY70xYA\n",
      "Skipping ChIJhQcrIKdz_UYR_hXly_yxhlc\n",
      "Skipping ChIJB16GcoNz_UYRGX28wrnccq4\n",
      "Skipping ChIJJQ4MkNoK_UYRd-zM7JMpEjg\n",
      "Skipping ChIJYYJMC7l1_UYRtCdQNRS6CG8\n",
      "Skipping ChIJqVF-0ioL_UYRos9EyJ9enSw\n",
      "Skipping ChIJgSbNWAJ0_UYRqVsg-3Mt-I0\n",
      "Skipping ChIJURPgvKx2_UYRDLk8KtvCSh0\n",
      "Skipping ChIJdXAED2B0_UYRiU_6Rf3NlGk\n",
      "Skipping ChIJOXVjeygL_UYReVT1g1aWsJY\n",
      "Skipping ChIJnWtsyyd0_UYR0vbYkKdf8kI\n",
      "Skipping ChIJNx75BNF0_UYRDKwTXv-xnNo\n",
      "Skipping ChIJ4-gThDML_UYR1EUmS4vOKqY\n",
      "Skipping ChIJG_FyrQYL_UYRpt8Xb0sWnFc\n",
      "Skipping ChIJuWbhqQpz_UYRv_ridU8yhJ4\n",
      "Skipping ChIJZYJK-ikL_UYRFoE4wB3NZDg\n",
      "Skipping ChIJ-1s_Uu11_UYRce9hXFCZgDc\n",
      "Skipping ChIJsR-IRtQK_UYRO9AIU4tzkr0\n",
      "Skipping ChIJa0uwAF90_UYR7USvIkffQH8\n"
     ]
    }
   ],
   "source": [
    "import gmaps\n",
    "import gmaps.datasets\n",
    "import os\n",
    "\n",
    "from lib import HowCloseIsItService\n",
    "\n",
    "how_close_service = HowCloseIsItService()\n",
    "biedry = how_close_service.get_all_of_ammenity(\"biedronka\", dry_run=True)"
   ]
  },
  {
   "cell_type": "code",
   "execution_count": 4,
   "metadata": {},
   "outputs": [],
   "source": [
    "df = gmaps.datasets.load_dataset_as_df('earthquakes')"
   ]
  },
  {
   "cell_type": "code",
   "execution_count": 6,
   "metadata": {},
   "outputs": [],
   "source": [
    "locations = df[['latitude', 'longitude']]"
   ]
  },
  {
   "cell_type": "code",
   "execution_count": 7,
   "metadata": {},
   "outputs": [],
   "source": [
    "gmaps.configure(api_key=os.getenv(\"GOOGLE_MAPS_API_KEY\"))\n",
    "fig = gmaps.figure()\n",
    "\n",
    "fig.add_layer(gmaps.heatmap_layer(locations, df['magnitude']))"
   ]
  },
  {
   "cell_type": "code",
   "execution_count": 8,
   "metadata": {},
   "outputs": [
    {
     "data": {
      "application/vnd.jupyter.widget-view+json": {
       "model_id": "917dc1177f9b41d18ed9cbb27f87e854",
       "version_major": 2,
       "version_minor": 0
      },
      "text/plain": [
       "Figure(layout=FigureLayout(height='420px'))"
      ]
     },
     "execution_count": 8,
     "metadata": {},
     "output_type": "execute_result"
    }
   ],
   "source": [
    "fig"
   ]
  }
 ],
 "metadata": {
  "kernelspec": {
   "display_name": "Python 3 (ipykernel)",
   "language": "python",
   "name": "python3"
  },
  "language_info": {
   "codemirror_mode": {
    "name": "ipython",
    "version": 3
   },
   "file_extension": ".py",
   "mimetype": "text/x-python",
   "name": "python",
   "nbconvert_exporter": "python",
   "pygments_lexer": "ipython3",
   "version": "3.11.3"
  }
 },
 "nbformat": 4,
 "nbformat_minor": 4
}
