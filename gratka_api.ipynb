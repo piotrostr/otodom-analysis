{
 "cells": [
  {
   "cell_type": "code",
   "execution_count": null,
   "id": "fae46538",
   "metadata": {},
   "outputs": [],
   "source": [
    "client = Client('http://soap.webapi2.gratka.pl/dom.html?wsdl')\n",
    "\n",
    "result = client.service.importuj_ogloszenia(\n",
    "      sesja='YourSessionID',\n",
    "      id_kategoria=5,\n",
    "      opcje={\n",
    "          \"numer_paczki\": 1,\n",
    "          \"region\": 1\n",
    "      }\n",
    ")\n",
    "\n",
    "print(result)\n",
    "\n",
    "!pip install -q pyotodom scrapper_helpers\n",
    "\n",
    "category.get_category(\"sprzedaz\", \"mieszkanie\", \"warszawa\")\n",
    "\n",
    "utils.get_url(\"sprzedaz\", \"mieszkanie\")"
   ]
  },
  {
   "cell_type": "code",
   "execution_count": null,
   "id": "90a9660c",
   "metadata": {},
   "outputs": [],
   "source": [
    "def get_offers_from_page(page: str) -> list[dict]:\n",
    "    \"\"\"\n",
    "    @deprecated\n",
    "\n",
    "    uses the 'application/ld+json' script tag with '@graph' in it that contains\n",
    "    all of the search results\n",
    "\n",
    "    this is a brittle approach as the SEO data is only given on the first page\n",
    "    of the search results\n",
    "\n",
    "    this is deprecated in favor of the function that uses __NEXT_DATA__ script\n",
    "    tag\n",
    "\n",
    "    :param page: HTML of the page\n",
    "    :return: list of offers\n",
    "    \"\"\"\n",
    "    soup = BeautifulSoup(page, \"lxml\")\n",
    "    ld_seo_scripts = soup.find_all('script', {'type': 'application/ld+json'})\n",
    "    print(ld_seo_scripts)\n",
    "    if ld_seo_scripts is not None and len(ld_seo_scripts) > 0:\n",
    "        for script in ld_seo_scripts:\n",
    "            data = json.loads(script.string)\n",
    "            # there is just one product below\n",
    "            # indexing like that might cause an error in the future\n",
    "            offers = [d for d in data['@graph'] if d['@type']\n",
    "                      == 'Product'][0]['offers']['offers']\n",
    "            return offers\n",
    "    return []"
   ]
  }
 ],
 "metadata": {
  "kernelspec": {
   "display_name": "Python 3 (ipykernel)",
   "language": "python",
   "name": "python3"
  },
  "language_info": {
   "codemirror_mode": {
    "name": "ipython",
    "version": 3
   },
   "file_extension": ".py",
   "mimetype": "text/x-python",
   "name": "python",
   "nbconvert_exporter": "python",
   "pygments_lexer": "ipython3",
   "version": "3.11.3"
  }
 },
 "nbformat": 4,
 "nbformat_minor": 5
}
