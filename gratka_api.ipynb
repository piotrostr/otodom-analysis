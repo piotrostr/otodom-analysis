{
 "cells": [
  {
   "cell_type": "code",
   "execution_count": null,
   "id": "fae46538",
   "metadata": {},
   "outputs": [],
   "source": [
    "client = Client('http://soap.webapi2.gratka.pl/dom.html?wsdl')\n",
    "\n",
    "result = client.service.importuj_ogloszenia(\n",
    "      sesja='YourSessionID',\n",
    "      id_kategoria=5,\n",
    "      opcje={\n",
    "          \"numer_paczki\": 1,\n",
    "          \"region\": 1\n",
    "      }\n",
    ")\n",
    "\n",
    "print(result)\n",
    "\n",
    "!pip install -q pyotodom scrapper_helpers\n",
    "\n",
    "category.get_category(\"sprzedaz\", \"mieszkanie\", \"warszawa\")\n",
    "\n",
    "utils.get_url(\"sprzedaz\", \"mieszkanie\")"
   ]
  }
 ],
 "metadata": {
  "kernelspec": {
   "display_name": "Python 3 (ipykernel)",
   "language": "python",
   "name": "python3"
  },
  "language_info": {
   "codemirror_mode": {
    "name": "ipython",
    "version": 3
   },
   "file_extension": ".py",
   "mimetype": "text/x-python",
   "name": "python",
   "nbconvert_exporter": "python",
   "pygments_lexer": "ipython3",
   "version": "3.11.3"
  }
 },
 "nbformat": 4,
 "nbformat_minor": 5
}
